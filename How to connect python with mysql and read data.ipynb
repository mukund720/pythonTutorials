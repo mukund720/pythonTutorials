{
 "cells": [
  {
   "cell_type": "code",
   "execution_count": 17,
   "id": "091e3b54",
   "metadata": {},
   "outputs": [],
   "source": [
    "import mysql.connector  \n",
    "#Create the connection object   \n",
    "myconn = mysql.connector.connect(host = \"localhost\", user = \"root\",\n",
    "                                 passwd = \"B560b560@\", \n",
    "                                 database = \"mukund_programming\")  "
   ]
  },
  {
   "cell_type": "code",
   "execution_count": 18,
   "id": "56df289e",
   "metadata": {},
   "outputs": [
    {
     "name": "stdout",
     "output_type": "stream",
     "text": [
      "('mukund720@gmail.com', 'abcde')\n",
      "('mk@gmail.com', 'anc33')\n"
     ]
    }
   ],
   "source": [
    "#creating the cursor object  \n",
    "cur = myconn.cursor()  \n",
    "try:  \n",
    "    #Reading the user data      \n",
    "    cur.execute(\"select * from user\")  \n",
    "  \n",
    "    #fetching the rows from the cursor object  \n",
    "    result = cur.fetchall()  \n",
    "    #printing the result  \n",
    "      \n",
    "    for x in result:  \n",
    "        print(x);  \n",
    "except:  \n",
    "    myconn.rollback()  \n",
    "  \n",
    "myconn.close()  "
   ]
  }
 ],
 "metadata": {
  "kernelspec": {
   "display_name": "Python 3",
   "language": "python",
   "name": "python3"
  },
  "language_info": {
   "codemirror_mode": {
    "name": "ipython",
    "version": 3
   },
   "file_extension": ".py",
   "mimetype": "text/x-python",
   "name": "python",
   "nbconvert_exporter": "python",
   "pygments_lexer": "ipython3",
   "version": "3.9.5"
  }
 },
 "nbformat": 4,
 "nbformat_minor": 5
}
